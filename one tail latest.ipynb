{
 "cells": [
  {
   "cell_type": "markdown",
   "metadata": {},
   "source": [
    "## Stroop Effect "
   ]
  },
  {
   "cell_type": "markdown",
   "metadata": {},
   "source": [
    "In a Stroop task, participants are presented with a list of words, with each word displayed in a color of ink. The participant’s task is to say out loud the color of the ink in which the word is printed. The task has two conditions: a congruent words condition, and an incongruent words condition. In the congruent words condition, the words being displayed are color words whose names match the colors in which they are printed: for example RED, BLUE. In the incongruent words condition, the words displayed are color words whose names do not match the colors in which they are printed: for example PURPLE, ORANGE. In each case, we measure the time it takes to name the ink colors in equally-sized lists. Each participant will go through and record a time from each condition."
   ]
  },
  {
   "cell_type": "markdown",
   "metadata": {},
   "source": [
    "### 1. What is our independent variable? What is our dependent variable?"
   ]
  },
  {
   "cell_type": "markdown",
   "metadata": {},
   "source": [
    "##### Independent Variable"
   ]
  },
  {
   "cell_type": "markdown",
   "metadata": {},
   "source": [
    "* Congruent words or Incongruent words\n",
    "* In this experiment we are examining whether the name of the word's color and the font color are same or different?  "
   ]
  },
  {
   "cell_type": "markdown",
   "metadata": {},
   "source": [
    "##### Dependent Variable"
   ]
  },
  {
   "cell_type": "markdown",
   "metadata": {},
   "source": [
    "The dependent variable is the reaction time that the user takes to read (i.e name the font color) in both types of lists."
   ]
  },
  {
   "cell_type": "markdown",
   "metadata": {},
   "source": [
    "### 2. What is an appropriate set of hypotheses for this task? What kind of statistical test do you expect to perform? Justify your choices."
   ]
  },
  {
   "cell_type": "markdown",
   "metadata": {},
   "source": [
    "##### Why?"
   ]
  },
  {
   "cell_type": "markdown",
   "metadata": {},
   "source": [
    "To examine if there will be any difference in reaction time between the congruent and incongruent words "
   ]
  },
  {
   "cell_type": "markdown",
   "metadata": {},
   "source": [
    "##### What type of test?"
   ]
  },
  {
   "cell_type": "markdown",
   "metadata": {},
   "source": [
    "* According to the Null hypothesis:\n",
    "* There is no difference or interference in reaction time after the interference or it will be less than Incongruent.\n",
    "\n",
    "* Null Hypotheses: (H0) : $\\bar{X}$ <= 0 Where  $\\bar{X}$ is the difference between the mean incongruent word time μi and mean congruent word time μc\n",
    "\n",
    "* According to Alternate Hypothesis: There is a significant increase in reaction time for the incongruent words condition.\n",
    "* Alternate Hypothesis HA: $\\bar{X}$ > 0 Where  $\\bar{X}$ is the difference between the mean incongruent word time μi and mean congruent word time μc\n",
    "\n",
    "We will run a paired t-test to check the dfference between the two means. Since the same subject is exposed to two conditions and tested. We can assume it as dependent two sample t-test. Here we have chosen t-test because population parameters are unknown. I.e the data provided was just the samples of population. Sample set is less than 30. We also do not know the population standard deviation. So we can justify that our test will be one sided. Since we can be relatively certain that the differences will be either statistically insignificant from zero, or that incongruent words will take longer and thus the difference will be one sided.\n",
    "\n",
    "The test will be the following :\n",
    "\n",
    "$\\Large\\frac{\\bar{x_i}-\\bar{x_c}}{\\frac{s}{\\sqrt{n}}}$\n",
    "\n",
    "* Where $\\bar{x_i}$ represents the sample mean of incongruent times\n",
    "* $\\bar{x_c}$ represents the sample mean of congruent times\n",
    "* standard error (se ) = $\\frac{s}{\\sqrt{n}}$\n",
    "* Where s represents standard deviation\n",
    "\n",
    "We also assume n-1 degrees of freedom, and consider the resulrs statistically significant at $\\alpha$ = 0.05\n",
    "\n",
    "A right-tailed test (sometimes called an upper test) is where your hypothesis statement contains a greater than (>) symbol. In other words, the inequality points to the right. \n",
    "Ex: Null hypothesis: No change (H0 = 1).\n",
    "Ex: Alternate hypothesis: (HA) > 1.\n",
    "\n",
    "The important factor here is that the alternate hypothesis(HA) determines if you have a right-tailed test, not the null hypothesis.\n"
   ]
  },
  {
   "cell_type": "code",
   "execution_count": null,
   "metadata": {
    "collapsed": true
   },
   "outputs": [],
   "source": [
    "#Importing the required libraries\n",
    "import pandas as pd\n",
    "import numpy as np\n",
    "from math import sqrt\n",
    "import matplotlib.pyplot as plt\n",
    "import seaborn as sns\n",
    "%matplotlib inline\n",
    "sns.set_style(\"white\")"
   ]
  },
  {
   "cell_type": "markdown",
   "metadata": {},
   "source": [
    "* We are using Stroop dataset here\n",
    "* We will print out first few records in data frame\n",
    "* Here you can see variables in Stroop data frame"
   ]
  },
  {
   "cell_type": "code",
   "execution_count": null,
   "metadata": {},
   "outputs": [],
   "source": [
    "#Read the data into a pandas dataframe and add a subject column\n",
    "stroop_data = pd.read_csv('C:\\\\Users\\\\alive\\\\Documents\\\\Data Analyst Nano Degree\\\\inferential statistics\\\\stroopdata.csv')\n",
    "stroop_data['Subject'] = stroop_data.index + 1\n",
    "stroop_data.head()"
   ]
  },
  {
   "cell_type": "code",
   "execution_count": null,
   "metadata": {},
   "outputs": [],
   "source": [
    "# Additional column that shows the time difference between congruent and Incongruent\n",
    "\n",
    "stroop_data['time_diff'] = stroop_data['Congruent'] - stroop_data['Incongruent']\n",
    "stroop_data"
   ]
  },
  {
   "cell_type": "markdown",
   "metadata": {},
   "source": [
    "#### Summary Statistics that describe variable's numeric values"
   ]
  },
  {
   "cell_type": "code",
   "execution_count": null,
   "metadata": {},
   "outputs": [],
   "source": [
    "stroop_data.shape"
   ]
  },
  {
   "cell_type": "markdown",
   "metadata": {},
   "source": [
    "i.e 24 rows 3 columns"
   ]
  },
  {
   "cell_type": "code",
   "execution_count": null,
   "metadata": {},
   "outputs": [],
   "source": [
    "stroop_data.columns"
   ]
  },
  {
   "cell_type": "markdown",
   "metadata": {},
   "source": [
    "Above are the column nmaes\n"
   ]
  },
  {
   "cell_type": "code",
   "execution_count": null,
   "metadata": {},
   "outputs": [],
   "source": [
    "# Sum method (total of columns)\n",
    "stroop_data.sum()"
   ]
  },
  {
   "cell_type": "markdown",
   "metadata": {},
   "source": [
    "### 3. Report some descriptive statistics regarding this dataset. Include at least one measure of central tendency and at least one measure of variability.\n"
   ]
  },
  {
   "cell_type": "code",
   "execution_count": null,
   "metadata": {},
   "outputs": [],
   "source": [
    "# Median method for middle value\n",
    "stroop_data.median()"
   ]
  },
  {
   "cell_type": "code",
   "execution_count": null,
   "metadata": {},
   "outputs": [],
   "source": [
    "# Mean of columns\n",
    "stroop_data. mean()"
   ]
  },
  {
   "cell_type": "code",
   "execution_count": null,
   "metadata": {},
   "outputs": [],
   "source": [
    "stroop_data.count()"
   ]
  },
  {
   "cell_type": "code",
   "execution_count": null,
   "metadata": {},
   "outputs": [],
   "source": [
    "# Max values of each variable in data frame\n",
    "stroop_data.max()\n"
   ]
  },
  {
   "cell_type": "code",
   "execution_count": null,
   "metadata": {},
   "outputs": [],
   "source": [
    "#call the.idx method to identify the row of max value\n",
    "congruent_max  = stroop_data.Congruent\n",
    "congruent_max.idxmax()"
   ]
  },
  {
   "cell_type": "markdown",
   "metadata": {},
   "source": [
    "10 represents index value of row where the max value is"
   ]
  },
  {
   "cell_type": "code",
   "execution_count": null,
   "metadata": {},
   "outputs": [],
   "source": [
    "#call the.idx method to identify the row of max value\n",
    "incongruent_max  = stroop_data.Incongruent\n",
    "incongruent_max.idxmax()"
   ]
  },
  {
   "cell_type": "markdown",
   "metadata": {},
   "source": [
    "14 represents index value of row where the max value is"
   ]
  },
  {
   "cell_type": "code",
   "execution_count": null,
   "metadata": {},
   "outputs": [],
   "source": [
    "#.std method calculates standaard deviation for ecah column\n",
    "stroop_data.std()"
   ]
  },
  {
   "cell_type": "code",
   "execution_count": null,
   "metadata": {},
   "outputs": [],
   "source": [
    "#.var method calculates variance in columns\n",
    "stroop_data.var()"
   ]
  },
  {
   "cell_type": "code",
   "execution_count": null,
   "metadata": {},
   "outputs": [],
   "source": [
    "#unique values in a variable (congruent)\n",
    "congruent_unique = stroop_data.Congruent\n",
    "congruent_unique.value_counts().head()\n"
   ]
  },
  {
   "cell_type": "code",
   "execution_count": null,
   "metadata": {},
   "outputs": [],
   "source": [
    "#unique values in a variable(incongruent)\n",
    "incongruent_unique = stroop_data.Incongruent\n",
    "incongruent_unique.value_counts().head()\n"
   ]
  },
  {
   "cell_type": "code",
   "execution_count": null,
   "metadata": {},
   "outputs": [],
   "source": [
    "#Entire statistical decriotion\n",
    "stroop_data.describe()"
   ]
  },
  {
   "cell_type": "markdown",
   "metadata": {},
   "source": [
    "* The difference in mean of time taken in performing incongruent and congruent tests = 7.96\n",
    "* And the difference of standard deviation = 4.86"
   ]
  },
  {
   "cell_type": "markdown",
   "metadata": {},
   "source": [
    "### 4. Provide one or two visualizations that show the distribution of the sample data. Write one or two sentences noting what you observe about the plot or plots."
   ]
  },
  {
   "cell_type": "code",
   "execution_count": null,
   "metadata": {},
   "outputs": [],
   "source": [
    "stroop_data['Congruent'].plot(kind='hist')"
   ]
  },
  {
   "cell_type": "markdown",
   "metadata": {},
   "source": [
    "Mostly the test completes in between 9 and 18 seconds, i.e  around the mean of 14 seconds."
   ]
  },
  {
   "cell_type": "code",
   "execution_count": null,
   "metadata": {},
   "outputs": [],
   "source": [
    "stroop_data['Incongruent'].plot(kind='hist')"
   ]
  },
  {
   "cell_type": "markdown",
   "metadata": {},
   "source": [
    "* As you can see, the test completes in between 16 and 25 seconds, I.e right around the mean of 22 seconds\n",
    "* The data also has some outliers at around 35 seconds. \n",
    "* So we can say from the above two graphs that the Congruent data was read faster than the incongruent data.\n"
   ]
  },
  {
   "cell_type": "code",
   "execution_count": null,
   "metadata": {},
   "outputs": [],
   "source": [
    "stroop_data[['Congruent','Incongruent']].boxplot();"
   ]
  },
  {
   "cell_type": "markdown",
   "metadata": {},
   "source": [
    "Above in the boxplot diagram, we can see a clear difference between the mean(Q2) of the congruent and the incongruent boxplots. \n",
    "\n",
    "* The Congruent Boxplot has no outliers\n",
    "* While the incongruent plot shows two outliers at around 35 seconds.\n",
    "\n",
    "The congruent data plot is slightly negatively skewed.\n",
    "As the Mean (14.0511) is smaller than the Median (14.3565). We can say that It's proved\n",
    "\n",
    "The incongruent data plot is slightly positively skewed.\n",
    "As the Median (21.0175) is smaller than the Mean (22.0159)"
   ]
  },
  {
   "cell_type": "markdown",
   "metadata": {},
   "source": [
    "### 5. Now, perform the statistical test and report your results. What is your confidence level and your critical statistic value? Do you reject the null hypothesis or fail to reject it? Come to a conclusion in terms of the experiment task. Did the results match up with your expectations?¶"
   ]
  },
  {
   "cell_type": "markdown",
   "metadata": {},
   "source": [
    "##### Degrees of freedom:\n",
    "The degree of freedom in our case is n − 1, where n represents the number of pairs (subjects in this case)."
   ]
  },
  {
   "cell_type": "code",
   "execution_count": null,
   "metadata": {},
   "outputs": [],
   "source": [
    "n=24\n",
    "df = n-1\n",
    "df"
   ]
  },
  {
   "cell_type": "code",
   "execution_count": null,
   "metadata": {
    "scrolled": true
   },
   "outputs": [],
   "source": [
    "mean_of_differences =   -7.964792\n",
    "std_of_differences =   4.864827\n",
    "print(\"The mean of the difference: {:.4f}\".format(mean_of_differences))\n",
    "print(\"The standard deviation of the difference: {:.4f}\".format(std_of_differences))"
   ]
  },
  {
   "cell_type": "code",
   "execution_count": null,
   "metadata": {},
   "outputs": [],
   "source": [
    "#Standard Error of the mean\n",
    "Stderr_mean = std_of_differences/float(sqrt(n))\n",
    "print(\"Standard Error of the mean value: {:.4f}\".format(Stderr_mean))"
   ]
  },
  {
   "cell_type": "code",
   "execution_count": null,
   "metadata": {},
   "outputs": [],
   "source": [
    "# Calculate t-statistic\n",
    "\n",
    "t_statistic_one_tail = mean_of_differences/float(Stderr_mean)\n",
    "\n",
    "print(\"t-statistic value: {:.4f}\".format(t_statistic_one_tail))"
   ]
  },
  {
   "cell_type": "code",
   "execution_count": null,
   "metadata": {},
   "outputs": [],
   "source": [
    "from scipy import stats\n",
    "\n",
    "# t-critical values at alpha = 0.05 and n = 24 for one-tailed t-test, q = Quantile to check\n",
    "\n",
    "t_critical_one_tail =stats.t.ppf(1-0.05, 23)  \n",
    "print(\"t-critical values at alpha of 0.05 for one-tailed t-test:\\\n",
    "{:.4f}\".format(t_critical_one_tail))"
   ]
  },
  {
   "cell_type": "markdown",
   "metadata": {},
   "source": [
    "So I have conducted a one-tailed test:\n",
    "Sample size n = 24 \n",
    "Degrees of freedom df = 23\n",
    "𝞪 = 0.05\n",
    "t critical = -1.714. \n",
    "xc - xi is based on our samples and equal to -7.97. Sample standard deviation of the differences (std) = 4.86\n",
    "t-statistic  = -8.02 "
   ]
  },
  {
   "cell_type": "markdown",
   "metadata": {},
   "source": [
    "If the p value is less than Alpha null should be rejected"
   ]
  },
  {
   "cell_type": "code",
   "execution_count": null,
   "metadata": {},
   "outputs": [],
   "source": [
    "#Cumulative distribution function. \n",
    "\n",
    "pval = stats.t.cdf(t_statistic_one_tail, df)*2\n",
    "\n",
    "print(\"p-value: {:.4e}\".format(pval))"
   ]
  },
  {
   "cell_type": "markdown",
   "metadata": {},
   "source": [
    "We got the result of p-value as 4.1030e-08. This means we'd expect a 0.000004103 chance of null hypothesis to be true. Our p-value is way lower than our significance level α (0.05) so we should reject the null hypothesis. That means participants need more time to say the color of the ink in the Incongruent words list.Asp < 0.05 it's positive direction."
   ]
  },
  {
   "cell_type": "code",
   "execution_count": null,
   "metadata": {},
   "outputs": [],
   "source": [
    "#Paired t-test on response time for congruent vs incongruent words\n",
    "print(stats.ttest_rel(stroop_data['Congruent'],stroop_data['Incongruent']))"
   ]
  },
  {
   "cell_type": "code",
   "execution_count": null,
   "metadata": {
    "scrolled": true
   },
   "outputs": [],
   "source": [
    "#Confidence intervals (CI) are a useful statistic to include \n",
    "#because they indicate where the true population mean might be. \n",
    "#It is common to report 95% confidence intervals.\n",
    "stats.norm.interval(0.95, loc = mean_of_differences, scale = Stderr_mean)"
   ]
  },
  {
   "cell_type": "markdown",
   "metadata": {},
   "source": [
    "Confidence interval = (-9.91, -6.02)\n",
    "The users who participated in testing has a delay of 9.9 to 6 seconds in reading the Incongruent words condition. I.e Incongruent words took more time to read when compared to Congruent words."
   ]
  },
  {
   "cell_type": "markdown",
   "metadata": {},
   "source": [
    "#### 6. Optional: What do you think is responsible for the effects observed? Can you think of an alternative or similar task that would result in a similar effect?\n"
   ]
  },
  {
   "cell_type": "markdown",
   "metadata": {},
   "source": [
    "When we read anything brain automatically understands the meaning of words.\n",
    "Where as recognizing colors is not an “automatic process”.  Especially when the brain has to read the wrongly colored words. I.e When the word color is different from word(name of the colour). So the experiment has proved that when a color word is printed in the same color as the word, people can name the ink color more quickly.\n",
    "\n",
    "* Similar effects:\n",
    "\n",
    "* Compare normal words with  words turned upside down\n",
    "* Compare full words with  their corresponding shorcut words.\n"
   ]
  },
  {
   "cell_type": "markdown",
   "metadata": {},
   "source": [
    "##### References"
   ]
  },
  {
   "cell_type": "markdown",
   "metadata": {},
   "source": [
    "https://en.wikipedia.org/wiki/Stroop_effect\n",
    "\n",
    "http://www.statstutor.ac.uk/resources/uploaded/paired-t-test.pdf\n",
    "\n",
    "http://blog.minitab.com/blog/adventures-in-statistics-2/understanding-t-tests%3A-1-sample%2C-2-sample%2C-and-paired-t-tests\n",
    "\n",
    "http://www.statisticshowto.com/p-value/\n",
    "\n",
    "http://www.statisticshowto.com/how-to-decide-if-a-hypothesis-test-is-a-left-tailed-test-or-a-right-tailed-test/\n",
    "\n",
    "https://www.youtube.com/watch?v=rWFDXt-MlNs\n",
    "\n"
   ]
  },
  {
   "cell_type": "code",
   "execution_count": null,
   "metadata": {
    "collapsed": true
   },
   "outputs": [],
   "source": []
  }
 ],
 "metadata": {
  "kernelspec": {
   "display_name": "Python 3",
   "language": "python",
   "name": "python3"
  },
  "language_info": {
   "codemirror_mode": {
    "name": "ipython",
    "version": 3
   },
   "file_extension": ".py",
   "mimetype": "text/x-python",
   "name": "python",
   "nbconvert_exporter": "python",
   "pygments_lexer": "ipython3",
   "version": "3.6.3"
  }
 },
 "nbformat": 4,
 "nbformat_minor": 2
}
